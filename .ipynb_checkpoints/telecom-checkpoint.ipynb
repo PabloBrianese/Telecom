{
 "cells": [
  {
   "cell_type": "markdown",
   "metadata": {},
   "source": [
    "# Instrucciones del desafío"
   ]
  },
  {
   "cell_type": "markdown",
   "metadata": {},
   "source": [
    "En el siguiente link: https//drive.google.comdrivefolders1YoDJTtHgTSlhmhtQPBCNoz32ntHhRDTvusp=sharing \n",
    "\n",
    "vas a encontrar cuatro archivos csv: cliente.csv, facturacion.csv; llamadas.csv, provincia.csv\n",
    "\n",
    "Podes usar el lenguaje que prefieras. SQL es el deseable.\n",
    "\n",
    "1. Calcular la facturación promedio, máxima, mínima de los últimos tres meses de los clientes 12-15-20.\n",
    "2. Crear una marca en caso de que haya cambiado de plan en alguno de los tres meses. (subilo al repositorio en un archivo .csv)\n",
    "3. Cuantos clientes que se encuentran en CABA cambiaron de plan.\n",
    "4. Que provincia tiene la facturación promedio trimestral más alta\n",
    "5. Hay alguna relación entre la facturación y la duración de llamadas (hay alguna métrica estadística que lo sustente)\n",
    "6. Hay alguna relación entre la facturación y el cambio de plan. (hay alguna métrica estadística que lo sustente)"
   ]
  },
  {
   "cell_type": "markdown",
   "metadata": {},
   "source": [
    "# Índice"
   ]
  },
  {
   "cell_type": "markdown",
   "metadata": {},
   "source": [
    "* [1 - Imports](#1)\n",
    "* [2 - Funciones](#2)\n",
    "* [3 - Cargamos los datasets](#3)\n",
    "* [4 - Pasamos los dataframes a tablas en Spark](#4)\n",
    "* [5 - Analizamos y corregimos las tablas](#5)\n",
    "* [6 - Respuestas a las preguntas](#6)\n",
    "    * [6.1 - Calcular la facturación promedio, máxima, mínima de los últimos tres meses de los clientes 12-15-20.](#6.1)\n",
    "    * [6.2 - Crear una marca en caso de que haya cambiado de plan en alguno de los tres meses. (subilo al repositorio en un archivo .csv)](#6.2)\n",
    "    * [6.3 - Cuantos clientes que se encuentran en CABA cambiaron de plan.](#6.3)\n",
    "    * [6.4 - Qué provincia tiene la facturación promedio trimestral más alta](#6.4)\n",
    "    * [6.5 - Hay alguna relación entre la facturación y la duración de llamadas (hay alguna métrica estadística que lo sustente)](#6.5)\n",
    "    * [6.6 - Hay alguna relación entre la facturación y el cambio de plan. (hay alguna métrica estadística que lo sustente)](#6.6)"
   ]
  },
  {
   "cell_type": "markdown",
   "metadata": {
    "_cell_guid": "79c7e3d0-c299-4dcb-8224-4455121ee9b0",
    "_uuid": "d629ff2d2480ee46fbb7e2d37f6b5fab8052498a",
    "collapsed": true
   },
   "source": [
    "# 1 - Imports <a id=\"1\"></a>"
   ]
  },
  {
   "cell_type": "code",
   "execution_count": 38,
   "metadata": {},
   "outputs": [],
   "source": [
    "import pandas as pd\n",
    "pd.set_option('display.max_columns', 1000) # Show all columns when looking at dataframe\n",
    "pd.set_option('display.max_rows', 1000) # Show all rows when looking at dataframe\n",
    "pd.set_option('display.max_colwidth', 100000)\n",
    "\n",
    "import numpy as np\n",
    "\n",
    "import matplotlib as mpl\n",
    "import matplotlib.pylab as pylab\n",
    "import matplotlib.pyplot as plt\n",
    "%matplotlib inline\n",
    "mpl.style.use('ggplot')\n",
    "pylab.rcParams['figure.figsize'] = 12,8\n",
    "import seaborn as sns\n",
    "sns.set_style('darkgrid')\n",
    "\n",
    "from sklearn.model_selection import train_test_split\n",
    "from sklearn.metrics import accuracy_score\n",
    "from sklearn.ensemble import RandomForestClassifier\n",
    "from sklearn.model_selection import GridSearchCV\n",
    "from sklearn.model_selection import RandomizedSearchCV"
   ]
  },
  {
   "cell_type": "code",
   "execution_count": 2,
   "metadata": {},
   "outputs": [],
   "source": [
    "nombre_notebook = \"telecom\"\n",
    "version_notebook = \"v0\""
   ]
  },
  {
   "cell_type": "markdown",
   "metadata": {},
   "source": [
    "# 2 - Funciones <a id=\"2\"></a>"
   ]
  },
  {
   "cell_type": "code",
   "execution_count": 3,
   "metadata": {},
   "outputs": [],
   "source": [
    "def levantar_tabla(nombre_tabla, ruta):\n",
    "    \n",
    "    query = sqlContext.read.parquet(ruta)\n",
    "    query.createOrReplaceTempView(nombre_tabla)\n",
    "    print(nombre_tabla, \"levantada de ruta:\", ruta)\n",
    "    \n",
    "def guardar_tabla_en_df(nombre_tabla):\n",
    "    \n",
    "    query_string = \"\"\"SELECT * FROM \"\"\" + nombre_tabla\n",
    "    query = spark.sql(query_string)\n",
    "    df = query.toPandas()\n",
    "    \n",
    "    return df\n",
    "\n",
    "def escribir_tabla(query, numero_tabla, nombre_notebook, version_notebook, tipo_guardado = \"temp\", tipo_escritura = \"overwrite\"):\n",
    "    \n",
    "    query.write.parquet(\"/\" + tipo_guardado + \"/fcosta/\" + nombre_notebook + \"_\" + version_notebook + \"/tabla_\" + str(numero_tabla), mode = tipo_escritura)\n",
    "    \n",
    "def escribir_y_levantar_tabla(query, numero_tabla, nombre_notebook, version_notebook, tipo_guardado = \"temp\", tipo_escritura = \"overwrite\"):\n",
    "    \n",
    "    escribir_tabla(query, numero_tabla, nombre_notebook, version_notebook, tipo_guardado = \"temp\", tipo_escritura = \"overwrite\")\n",
    "    nombre_tabla = \"tabla_\" + str(numero_tabla)\n",
    "    ruta = \"/\" + tipo_guardado + \"/fcosta/\" + nombre_notebook + \"_\" + version_notebook + \"/tabla_\" + str(numero_tabla)\n",
    "    levantar_tabla(nombre_tabla, ruta)"
   ]
  },
  {
   "cell_type": "code",
   "execution_count": 4,
   "metadata": {},
   "outputs": [],
   "source": [
    "def analisis_nulls(dataframe):\n",
    "    variables = dataframe.columns\n",
    "    lista_cant_nulls = []\n",
    "    lista_porc_nulls = []\n",
    "    for variable in variables:\n",
    "        cant_nulls = dataframe[variable].isnull().sum()\n",
    "        porc_nulls = cant_nulls * 100 / len(dataframe)\n",
    "        lista_cant_nulls.append(cant_nulls)\n",
    "        lista_porc_nulls.append(porc_nulls)\n",
    "    df = pd.DataFrame({\"variable\" : variables, \"cant_null\" : lista_cant_nulls, \"porc_nulls\" : lista_porc_nulls}).sort_values(\"porc_nulls\", ascending = False)\n",
    "    return df"
   ]
  },
  {
   "cell_type": "markdown",
   "metadata": {},
   "source": [
    "# 3 - Cargamos los datasets <a id=\"3\"></a>"
   ]
  },
  {
   "cell_type": "code",
   "execution_count": 5,
   "metadata": {},
   "outputs": [],
   "source": [
    "df_cliente = pd.read_csv(\"../cliente.csv\", sep = \";\")\n",
    "df_facturacion = pd.read_csv(\"../facturacion.csv\", sep = \";\")\n",
    "df_llamadas = pd.read_csv(\"../llamadas.csv\", sep = \";\")\n",
    "df_provincia = pd.read_csv(\"../provincia.csv\", sep = \";\", encoding = \"latin1\")"
   ]
  },
  {
   "cell_type": "markdown",
   "metadata": {},
   "source": [
    "# 4 - Pasamos los dataframes a tablas en Spark <a id=\"4\"></a>"
   ]
  },
  {
   "cell_type": "code",
   "execution_count": 6,
   "metadata": {},
   "outputs": [],
   "source": [
    "import findspark\n",
    "findspark.init()\n",
    "\n",
    "findspark.find()\n",
    "import pyspark\n",
    "findspark.find()\n",
    "\n",
    "from pyspark import SparkContext, SparkConf\n",
    "from pyspark.sql import SparkSession, SQLContext\n",
    "conf = pyspark.SparkConf().setAppName('appName').setMaster('local')\n",
    "sc = pyspark.SparkContext(conf=conf)\n",
    "spark = SparkSession(sc)\n",
    "sqlContext = SQLContext(sc)"
   ]
  },
  {
   "cell_type": "code",
   "execution_count": 7,
   "metadata": {},
   "outputs": [],
   "source": [
    "#sc.stop()"
   ]
  },
  {
   "cell_type": "code",
   "execution_count": 8,
   "metadata": {},
   "outputs": [],
   "source": [
    "query_0 = spark.createDataFrame(df_cliente)"
   ]
  },
  {
   "cell_type": "code",
   "execution_count": 9,
   "metadata": {},
   "outputs": [
    {
     "name": "stdout",
     "output_type": "stream",
     "text": [
      "tabla_0 levantada de ruta: /temp/fcosta/telecom_v0/tabla_0\n"
     ]
    }
   ],
   "source": [
    "escribir_y_levantar_tabla(query_0, numero_tabla = 0, \n",
    "                          nombre_notebook = nombre_notebook, version_notebook = version_notebook, \n",
    "                          tipo_guardado = \"temp\", tipo_escritura = \"overwrite\")"
   ]
  },
  {
   "cell_type": "code",
   "execution_count": 10,
   "metadata": {},
   "outputs": [],
   "source": [
    "query_1 = spark.createDataFrame(df_facturacion)"
   ]
  },
  {
   "cell_type": "code",
   "execution_count": 11,
   "metadata": {},
   "outputs": [
    {
     "name": "stdout",
     "output_type": "stream",
     "text": [
      "tabla_1 levantada de ruta: /temp/fcosta/telecom_v0/tabla_1\n"
     ]
    }
   ],
   "source": [
    "escribir_y_levantar_tabla(query_1, numero_tabla = 1, \n",
    "                          nombre_notebook = nombre_notebook, version_notebook = version_notebook, \n",
    "                          tipo_guardado = \"temp\", tipo_escritura = \"overwrite\")"
   ]
  },
  {
   "cell_type": "code",
   "execution_count": 12,
   "metadata": {},
   "outputs": [],
   "source": [
    "query_2 = spark.createDataFrame(df_llamadas)"
   ]
  },
  {
   "cell_type": "code",
   "execution_count": 13,
   "metadata": {},
   "outputs": [
    {
     "name": "stdout",
     "output_type": "stream",
     "text": [
      "tabla_2 levantada de ruta: /temp/fcosta/telecom_v0/tabla_2\n"
     ]
    }
   ],
   "source": [
    "escribir_y_levantar_tabla(query_2, numero_tabla = 2, \n",
    "                          nombre_notebook = nombre_notebook, version_notebook = version_notebook, \n",
    "                          tipo_guardado = \"temp\", tipo_escritura = \"overwrite\")"
   ]
  },
  {
   "cell_type": "code",
   "execution_count": 14,
   "metadata": {},
   "outputs": [],
   "source": [
    "query_3 = spark.createDataFrame(df_provincia)"
   ]
  },
  {
   "cell_type": "code",
   "execution_count": 15,
   "metadata": {},
   "outputs": [
    {
     "name": "stdout",
     "output_type": "stream",
     "text": [
      "tabla_3 levantada de ruta: /temp/fcosta/telecom_v0/tabla_3\n"
     ]
    }
   ],
   "source": [
    "escribir_y_levantar_tabla(query_3, numero_tabla = 3, \n",
    "                          nombre_notebook = nombre_notebook, version_notebook = version_notebook, \n",
    "                          tipo_guardado = \"temp\", tipo_escritura = \"overwrite\")"
   ]
  },
  {
   "cell_type": "markdown",
   "metadata": {},
   "source": [
    "# 5 - Analizamos y corregimos las tablas <a id=\"5\"></a>"
   ]
  },
  {
   "cell_type": "markdown",
   "metadata": {},
   "source": [
    "### 5.1 - Tabla_0: Clientes"
   ]
  },
  {
   "cell_type": "code",
   "execution_count": 16,
   "metadata": {},
   "outputs": [
    {
     "name": "stdout",
     "output_type": "stream",
     "text": [
      "+--------+---+-----------+\n",
      "|Plan_mes|mes|nro_cliente|\n",
      "+--------+---+-----------+\n",
      "|   95729|  1|          1|\n",
      "|   96410|  1|          3|\n",
      "|   96400|  1|          2|\n",
      "|   95729|  1|          5|\n",
      "|   95420|  1|          4|\n",
      "+--------+---+-----------+\n",
      "only showing top 5 rows\n",
      "\n"
     ]
    }
   ],
   "source": [
    "spark.sql(\"\"\"\n",
    "\n",
    "SELECT *\n",
    "\n",
    "FROM tabla_0\n",
    "\n",
    "\"\"\").show(5)"
   ]
  },
  {
   "cell_type": "code",
   "execution_count": 17,
   "metadata": {},
   "outputs": [
    {
     "name": "stdout",
     "output_type": "stream",
     "text": [
      "Cantidad de clientes distintos en la tabla_0: 10900\n",
      "Cantidad de planes distintos en la tabla_0: 196\n",
      "Cantidad de registros en la tabla_0: 32618\n"
     ]
    }
   ],
   "source": [
    "print(\"Cantidad de clientes distintos en la tabla_0:\", spark.sql(\"\"\" SELECT DISTINCT nro_cliente FROM tabla_0 \"\"\").count())\n",
    "print(\"Cantidad de planes distintos en la tabla_0:\", spark.sql(\"\"\" SELECT DISTINCT Plan_mes FROM tabla_0 \"\"\").count())\n",
    "print(\"Cantidad de registros en la tabla_0:\", spark.sql(\"\"\" SELECT * FROM tabla_0 \"\"\").count())"
   ]
  },
  {
   "cell_type": "code",
   "execution_count": 18,
   "metadata": {},
   "outputs": [
    {
     "name": "stdout",
     "output_type": "stream",
     "text": [
      "+----------------+----------------+-------------+-------------+\n",
      "|min(nro_cliente)|max(nro_cliente)|min(Plan_mes)|max(Plan_mes)|\n",
      "+----------------+----------------+-------------+-------------+\n",
      "|               1|           10900|        91358|        97240|\n",
      "+----------------+----------------+-------------+-------------+\n",
      "\n"
     ]
    }
   ],
   "source": [
    "spark.sql(\"\"\"\n",
    "\n",
    "SELECT MIN(nro_cliente), MAX(nro_cliente), MIN(Plan_mes), MAX(Plan_mes)\n",
    "\n",
    "FROM tabla_0\n",
    "\n",
    "\"\"\").show(5)"
   ]
  },
  {
   "cell_type": "markdown",
   "metadata": {},
   "source": [
    "#### Hay algún cliente con mes mayor que 3?"
   ]
  },
  {
   "cell_type": "code",
   "execution_count": 19,
   "metadata": {},
   "outputs": [
    {
     "name": "stdout",
     "output_type": "stream",
     "text": [
      "+--------+---+-----------+\n",
      "|Plan_mes|mes|nro_cliente|\n",
      "+--------+---+-----------+\n",
      "+--------+---+-----------+\n",
      "\n"
     ]
    }
   ],
   "source": [
    "spark.sql(\"\"\"\n",
    "\n",
    "SELECT *\n",
    "\n",
    "FROM tabla_0\n",
    "\n",
    "WHERE mes < 1 OR mes > 3\n",
    "\n",
    "\"\"\").show(5)"
   ]
  },
  {
   "cell_type": "markdown",
   "metadata": {},
   "source": [
    "#### Hay algún cliente sin algún mes?"
   ]
  },
  {
   "cell_type": "code",
   "execution_count": 20,
   "metadata": {
    "scrolled": true
   },
   "outputs": [
    {
     "name": "stdout",
     "output_type": "stream",
     "text": [
      "+-----------+---+\n",
      "|nro_cliente|  N|\n",
      "+-----------+---+\n",
      "|      10860|  2|\n",
      "|      10862|  2|\n",
      "|      10864|  2|\n",
      "|      10863|  2|\n",
      "|      10861|  2|\n",
      "|      10865|  2|\n",
      "|      10866|  2|\n",
      "|      10868|  2|\n",
      "|      10871|  2|\n",
      "|      10872|  2|\n",
      "|      10869|  2|\n",
      "|      10873|  2|\n",
      "|      10870|  2|\n",
      "|      10874|  2|\n",
      "|      10875|  2|\n",
      "|      10876|  2|\n",
      "|      10867|  2|\n",
      "|      10879|  2|\n",
      "|      10877|  2|\n",
      "|      10878|  2|\n",
      "|      10880|  2|\n",
      "|      10881|  2|\n",
      "|      10883|  2|\n",
      "|      10882|  2|\n",
      "|      10885|  2|\n",
      "|      10884|  2|\n",
      "|      10887|  2|\n",
      "|      10886|  2|\n",
      "|      10888|  2|\n",
      "|      10890|  2|\n",
      "|      10892|  2|\n",
      "|      10889|  2|\n",
      "|      10891|  2|\n",
      "|      10893|  2|\n",
      "|      10894|  2|\n",
      "|      10895|  2|\n",
      "|      10897|  2|\n",
      "|      10898|  2|\n",
      "|      10896|  2|\n",
      "|      10900|  2|\n",
      "|      10899|  2|\n",
      "|      10822|  2|\n",
      "|      10823|  2|\n",
      "|      10824|  2|\n",
      "|      10819|  2|\n",
      "|      10821|  2|\n",
      "|      10820|  2|\n",
      "|      10825|  2|\n",
      "|      10826|  2|\n",
      "|      10827|  2|\n",
      "|      10829|  2|\n",
      "|      10831|  2|\n",
      "|      10830|  2|\n",
      "|      10828|  2|\n",
      "|      10832|  2|\n",
      "|      10833|  2|\n",
      "|      10834|  2|\n",
      "|      10835|  2|\n",
      "|      10836|  2|\n",
      "|      10837|  2|\n",
      "|      10838|  2|\n",
      "|      10839|  2|\n",
      "|      10840|  2|\n",
      "|      10842|  2|\n",
      "|      10843|  2|\n",
      "|      10841|  2|\n",
      "|      10845|  2|\n",
      "|      10849|  2|\n",
      "|      10848|  2|\n",
      "|      10847|  2|\n",
      "|      10851|  2|\n",
      "|      10846|  2|\n",
      "|      10850|  2|\n",
      "|      10852|  2|\n",
      "|      10854|  2|\n",
      "|      10853|  2|\n",
      "|      10855|  2|\n",
      "|      10856|  2|\n",
      "|      10858|  2|\n",
      "|      10844|  2|\n",
      "|      10859|  2|\n",
      "|      10857|  2|\n",
      "+-----------+---+\n",
      "\n"
     ]
    }
   ],
   "source": [
    "spark.sql(\"\"\"\n",
    "\n",
    "SELECT nro_cliente, COUNT(DISTINCT mes) AS N\n",
    "\n",
    "FROM tabla_0\n",
    "\n",
    "GROUP BY nro_cliente\n",
    "\n",
    "HAVING N < 3\n",
    "\n",
    "ORDER BY N ASC\n",
    "\n",
    "\"\"\").show(100)"
   ]
  },
  {
   "cell_type": "code",
   "execution_count": 21,
   "metadata": {},
   "outputs": [
    {
     "name": "stdout",
     "output_type": "stream",
     "text": [
      "+--------------+\n",
      "|plan_mes_nulls|\n",
      "+--------------+\n",
      "|             0|\n",
      "+--------------+\n",
      "\n"
     ]
    }
   ],
   "source": [
    "spark.sql(\"\"\"\n",
    "\n",
    "SELECT COUNT(*) AS plan_mes_nulls\n",
    "\n",
    "FROM tabla_0\n",
    "\n",
    "WHERE Plan_mes IS NULL\n",
    "\n",
    "\"\"\").show(100)"
   ]
  },
  {
   "cell_type": "markdown",
   "metadata": {},
   "source": [
    "### 5.2 - Tabla_1: Facturación"
   ]
  },
  {
   "cell_type": "code",
   "execution_count": 22,
   "metadata": {},
   "outputs": [
    {
     "name": "stdout",
     "output_type": "stream",
     "text": [
      "+-----------+-----------+---+\n",
      "|facturacion|nro_cliente|mes|\n",
      "+-----------+-----------+---+\n",
      "|   935.8301|          1|  1|\n",
      "|  1352.8632|          2|  1|\n",
      "|   602.0372|          3|  1|\n",
      "|   847.5758|          4|  1|\n",
      "|    423.793|          5|  1|\n",
      "+-----------+-----------+---+\n",
      "only showing top 5 rows\n",
      "\n"
     ]
    }
   ],
   "source": [
    "spark.sql(\"\"\"\n",
    "\n",
    "SELECT *\n",
    "\n",
    "FROM tabla_1\n",
    "\n",
    "\"\"\").show(5)"
   ]
  },
  {
   "cell_type": "code",
   "execution_count": 23,
   "metadata": {},
   "outputs": [
    {
     "name": "stdout",
     "output_type": "stream",
     "text": [
      "Cantidad de clientes distintos en la tabla_1: 10900\n",
      "Cantidad de registros en la tabla_1: 32700\n"
     ]
    }
   ],
   "source": [
    "print(\"Cantidad de clientes distintos en la tabla_1:\", spark.sql(\"\"\" SELECT DISTINCT nro_cliente FROM tabla_1 \"\"\").count())\n",
    "print(\"Cantidad de registros en la tabla_1:\", spark.sql(\"\"\" SELECT * FROM tabla_1 \"\"\").count())"
   ]
  },
  {
   "cell_type": "markdown",
   "metadata": {},
   "source": [
    "#### Hay algún cliente con más de una facturación por mes?"
   ]
  },
  {
   "cell_type": "code",
   "execution_count": 24,
   "metadata": {},
   "outputs": [
    {
     "name": "stdout",
     "output_type": "stream",
     "text": [
      "+-----------+---+---+\n",
      "|nro_cliente|mes|  N|\n",
      "+-----------+---+---+\n",
      "|          1|  1|  1|\n",
      "+-----------+---+---+\n",
      "only showing top 1 row\n",
      "\n"
     ]
    }
   ],
   "source": [
    "spark.sql(\"\"\"\n",
    "\n",
    "SELECT nro_cliente, mes, COUNT(*) AS N\n",
    "\n",
    "FROM tabla_1\n",
    "\n",
    "GROUP BY nro_cliente, mes\n",
    "\n",
    "ORDER BY N DESC\n",
    "\n",
    "\"\"\").show(1)"
   ]
  },
  {
   "cell_type": "code",
   "execution_count": 25,
   "metadata": {},
   "outputs": [
    {
     "name": "stdout",
     "output_type": "stream",
     "text": [
      "+----------------+----------------+\n",
      "|min(facturacion)|max(facturacion)|\n",
      "+----------------+----------------+\n",
      "|       -371.9162|       4111.4854|\n",
      "+----------------+----------------+\n",
      "\n"
     ]
    }
   ],
   "source": [
    "spark.sql(\"\"\"\n",
    "\n",
    "SELECT MIN(facturacion), MAX(facturacion)\n",
    "\n",
    "FROM tabla_1\n",
    "\n",
    "\"\"\").show(5)"
   ]
  },
  {
   "cell_type": "markdown",
   "metadata": {},
   "source": [
    "### 5.3 - Tabla_2: Llamadas"
   ]
  },
  {
   "cell_type": "code",
   "execution_count": 26,
   "metadata": {},
   "outputs": [
    {
     "name": "stdout",
     "output_type": "stream",
     "text": [
      "+-----------------+-------------------------+-----------+---+------------+\n",
      "|Cantidad_Llamadas|Duracion_Llamadas_minutos|nro_cliente|mes|tipo_llamada|\n",
      "+-----------------+-------------------------+-----------+---+------------+\n",
      "|                1|                      285|         41|  1|    Saliente|\n",
      "|                1|                       30|         42|  1|    Saliente|\n",
      "|                1|                       30|         92|  1|    Saliente|\n",
      "|                1|                       30|         94|  1|    Saliente|\n",
      "|                1|                       80|        131|  1|    Saliente|\n",
      "+-----------------+-------------------------+-----------+---+------------+\n",
      "only showing top 5 rows\n",
      "\n"
     ]
    }
   ],
   "source": [
    "spark.sql(\"\"\"\n",
    "\n",
    "SELECT *\n",
    "\n",
    "FROM tabla_2\n",
    "\n",
    "\"\"\").show(5)"
   ]
  },
  {
   "cell_type": "code",
   "execution_count": 27,
   "metadata": {},
   "outputs": [
    {
     "name": "stdout",
     "output_type": "stream",
     "text": [
      "Cantidad de clientes distintos en la tabla_2: 1191\n",
      "Cantidad de registros en la tabla_2: 2534\n"
     ]
    }
   ],
   "source": [
    "print(\"Cantidad de clientes distintos en la tabla_2:\", spark.sql(\"\"\" SELECT DISTINCT nro_cliente FROM tabla_2 \"\"\").count())\n",
    "print(\"Cantidad de registros en la tabla_2:\", spark.sql(\"\"\" SELECT * FROM tabla_2 \"\"\").count())"
   ]
  },
  {
   "cell_type": "markdown",
   "metadata": {},
   "source": [
    "#### Pocos clientes tienen el detalle de las llamadas!"
   ]
  },
  {
   "cell_type": "code",
   "execution_count": 28,
   "metadata": {},
   "outputs": [
    {
     "name": "stdout",
     "output_type": "stream",
     "text": [
      "+------------+\n",
      "|tipo_llamada|\n",
      "+------------+\n",
      "|    Saliente|\n",
      "|    Entrante|\n",
      "+------------+\n",
      "\n"
     ]
    }
   ],
   "source": [
    "spark.sql(\"\"\"\n",
    "\n",
    "SELECT DISTINCT(tipo_llamada)\n",
    "\n",
    "FROM tabla_2\n",
    "\n",
    "\"\"\").show(5)"
   ]
  },
  {
   "cell_type": "code",
   "execution_count": 29,
   "metadata": {},
   "outputs": [
    {
     "name": "stdout",
     "output_type": "stream",
     "text": [
      "+------------------------------+------------------------------+----------------------+----------------------+\n",
      "|min(Duracion_Llamadas_minutos)|max(Duracion_Llamadas_minutos)|min(Cantidad_Llamadas)|max(Cantidad_Llamadas)|\n",
      "+------------------------------+------------------------------+----------------------+----------------------+\n",
      "|                            30|                         14411|                     1|                    59|\n",
      "+------------------------------+------------------------------+----------------------+----------------------+\n",
      "\n"
     ]
    }
   ],
   "source": [
    "spark.sql(\"\"\"\n",
    "\n",
    "SELECT MIN(Duracion_Llamadas_minutos), MAX(Duracion_Llamadas_minutos), \n",
    "\n",
    "MIN(Cantidad_Llamadas), MAX(Cantidad_Llamadas)\n",
    "\n",
    "FROM tabla_2\n",
    "\n",
    "\"\"\").show(5)"
   ]
  },
  {
   "cell_type": "markdown",
   "metadata": {},
   "source": [
    "#### Hay clientes con más de un registro por mes?"
   ]
  },
  {
   "cell_type": "code",
   "execution_count": 30,
   "metadata": {},
   "outputs": [
    {
     "name": "stdout",
     "output_type": "stream",
     "text": [
      "+-----------+---+---+\n",
      "|nro_cliente|mes|  N|\n",
      "+-----------+---+---+\n",
      "|       6950|  2| 14|\n",
      "+-----------+---+---+\n",
      "only showing top 1 row\n",
      "\n"
     ]
    }
   ],
   "source": [
    "spark.sql(\"\"\"\n",
    "\n",
    "SELECT nro_cliente, mes, COUNT(*) AS N\n",
    "\n",
    "FROM tabla_2\n",
    "\n",
    "GROUP BY nro_cliente, mes\n",
    "\n",
    "ORDER BY N DESC\n",
    "\n",
    "\"\"\").show(1)"
   ]
  },
  {
   "cell_type": "markdown",
   "metadata": {},
   "source": [
    "#### Vamos a consolidar la información por mes (porque la facturación es mensual, y después necesitp estudiar la correlación y la duración de las llamadas)"
   ]
  },
  {
   "cell_type": "code",
   "execution_count": 31,
   "metadata": {},
   "outputs": [],
   "source": [
    "query_2_1 = spark.sql(\"\"\"\n",
    "\n",
    "SELECT nro_cliente, mes, SUM(Duracion_Llamadas_minutos) AS duracion_total_llamadas_minutos\n",
    "\n",
    "FROM tabla_2\n",
    "\n",
    "GROUP BY nro_cliente, mes\n",
    "\n",
    "ORDER BY nro_cliente, mes\n",
    " \n",
    "\"\"\")"
   ]
  },
  {
   "cell_type": "code",
   "execution_count": 32,
   "metadata": {},
   "outputs": [
    {
     "name": "stdout",
     "output_type": "stream",
     "text": [
      "tabla_2_1 levantada de ruta: /temp/fcosta/telecom_v0/tabla_2_1\n"
     ]
    }
   ],
   "source": [
    "escribir_y_levantar_tabla(query_2_1, numero_tabla = \"2_1\", \n",
    "                          nombre_notebook = nombre_notebook, version_notebook = version_notebook, \n",
    "                          tipo_guardado = \"temp\", tipo_escritura = \"overwrite\")"
   ]
  },
  {
   "cell_type": "markdown",
   "metadata": {},
   "source": [
    "### 5.4 - Tabla_3: Provincia"
   ]
  },
  {
   "cell_type": "code",
   "execution_count": 33,
   "metadata": {},
   "outputs": [
    {
     "name": "stdout",
     "output_type": "stream",
     "text": [
      "+---------+-----------+\n",
      "|provincia|nro_cliente|\n",
      "+---------+-----------+\n",
      "|    Chaco|          1|\n",
      "| Santa Fe|          2|\n",
      "|  Córdoba|          3|\n",
      "|    Salta|          4|\n",
      "| Santa Fe|          5|\n",
      "+---------+-----------+\n",
      "only showing top 5 rows\n",
      "\n"
     ]
    }
   ],
   "source": [
    "spark.sql(\"\"\"\n",
    "\n",
    "SELECT *\n",
    "\n",
    "FROM tabla_3\n",
    "\n",
    "\"\"\").show(5)"
   ]
  },
  {
   "cell_type": "code",
   "execution_count": 34,
   "metadata": {},
   "outputs": [
    {
     "name": "stdout",
     "output_type": "stream",
     "text": [
      "Cantidad de provincias distintas en la tabla_3: 28\n",
      "Cantidad de registros en la tabla_3: 10900\n"
     ]
    }
   ],
   "source": [
    "print(\"Cantidad de provincias distintas en la tabla_3:\", spark.sql(\"\"\" SELECT DISTINCT provincia FROM tabla_3 \"\"\").count())\n",
    "print(\"Cantidad de registros en la tabla_3:\", spark.sql(\"\"\" SELECT * FROM tabla_3 \"\"\").count())"
   ]
  },
  {
   "cell_type": "code",
   "execution_count": 35,
   "metadata": {
    "scrolled": true
   },
   "outputs": [
    {
     "name": "stdout",
     "output_type": "stream",
     "text": [
      "+------------------------------+\n",
      "|provincia                     |\n",
      "+------------------------------+\n",
      "|Buenos Aires                  |\n",
      "|Catamarca                     |\n",
      "|Chaco                         |\n",
      "|Chubut                        |\n",
      "|Ciudad Autonoma De Buenos Aire|\n",
      "|Ciudad Autónoma De Buenos Aire|\n",
      "|Cordoba                       |\n",
      "|Corrientes                    |\n",
      "|Córdoba                       |\n",
      "|Entre Rios                    |\n",
      "|Entre Ríos                    |\n",
      "|Formosa                       |\n",
      "|Jujuy                         |\n",
      "|La Pampa                      |\n",
      "|La Rioja                      |\n",
      "|Mendoza                       |\n",
      "|Misiones                      |\n",
      "|Neuquén                       |\n",
      "|Río Negro                     |\n",
      "|Salta                         |\n",
      "|San Juan                      |\n",
      "|San Luis                      |\n",
      "|Santa Cruz                    |\n",
      "|Santa Fe                      |\n",
      "|Santiago Del Estero           |\n",
      "|Tierra Del Fuego              |\n",
      "|Tucuman                       |\n",
      "|Tucumán                       |\n",
      "+------------------------------+\n",
      "\n"
     ]
    }
   ],
   "source": [
    "spark.sql(\"\"\"\n",
    "\n",
    "SELECT DISTINCT provincia\n",
    "\n",
    "FROM tabla_3\n",
    "\n",
    "ORDER BY provincia\n",
    "\n",
    "\"\"\").show(50, truncate = False)"
   ]
  },
  {
   "cell_type": "code",
   "execution_count": 36,
   "metadata": {},
   "outputs": [],
   "source": [
    "query_3_1 = spark.sql(\"\"\"\n",
    "\n",
    "SELECT nro_cliente, \n",
    "\n",
    "LOWER(replace(replace(replace(replace(replace(provincia, 'á', 'a'), 'é', 'e'), 'í', 'i'), 'ó', 'o'), 'ú', 'u')) AS provincia\n",
    "\n",
    "FROM tabla_3\n",
    "\n",
    "\"\"\")"
   ]
  },
  {
   "cell_type": "code",
   "execution_count": 37,
   "metadata": {},
   "outputs": [
    {
     "name": "stdout",
     "output_type": "stream",
     "text": [
      "tabla_3_1 levantada de ruta: /temp/fcosta/telecom_v0/tabla_3_1\n"
     ]
    }
   ],
   "source": [
    "escribir_y_levantar_tabla(query_3_1, numero_tabla = \"3_1\", \n",
    "                          nombre_notebook = nombre_notebook, version_notebook = version_notebook, \n",
    "                          tipo_guardado = \"temp\", tipo_escritura = \"overwrite\")"
   ]
  },
  {
   "cell_type": "markdown",
   "metadata": {},
   "source": [
    "# 6 - Respuestas a las preguntas <a id=\"6\"></a>"
   ]
  },
  {
   "cell_type": "markdown",
   "metadata": {},
   "source": [
    "## 6.1 - Calcular la facturación promedio, máxima, mínima de los últimos tres meses de los clientes 12-15-20. <a id=\"6.1\"></a>"
   ]
  },
  {
   "cell_type": "markdown",
   "metadata": {},
   "source": [
    "#### No sé si se refiere a calcular esos estadísticos para la columna facturación o para el trimestre de cada cliente. Calculo las dos cosas."
   ]
  },
  {
   "cell_type": "code",
   "execution_count": 39,
   "metadata": {},
   "outputs": [
    {
     "name": "stdout",
     "output_type": "stream",
     "text": [
      "+-----------+-----------+---+\n",
      "|facturacion|nro_cliente|mes|\n",
      "+-----------+-----------+---+\n",
      "|935.8301   |1          |1  |\n",
      "|935.8301   |1          |2  |\n",
      "|919.1029   |1          |3  |\n",
      "|1352.8632  |2          |1  |\n",
      "|1352.8632  |2          |2  |\n",
      "+-----------+-----------+---+\n",
      "only showing top 5 rows\n",
      "\n"
     ]
    }
   ],
   "source": [
    "spark.sql(\"\"\"\n",
    "\n",
    "SELECT *\n",
    "\n",
    "FROM tabla_1\n",
    "\n",
    "ORDER BY nro_cliente, mes\n",
    "\n",
    "\"\"\").show(5, truncate = False)"
   ]
  },
  {
   "cell_type": "code",
   "execution_count": 40,
   "metadata": {},
   "outputs": [
    {
     "name": "stdout",
     "output_type": "stream",
     "text": [
      "+----------------+-----------------+----------------+\n",
      "|min(facturacion)|avg(facturacion) |max(facturacion)|\n",
      "+----------------+-----------------+----------------+\n",
      "|-371.9162       |530.1799105198826|4111.4854       |\n",
      "+----------------+-----------------+----------------+\n",
      "\n"
     ]
    }
   ],
   "source": [
    "spark.sql(\"\"\"\n",
    "\n",
    "SELECT MIN(facturacion), MEAN(facturacion), MAX(facturacion)\n",
    "\n",
    "FROM tabla_1\n",
    "\n",
    "\"\"\").show(5, truncate = False)"
   ]
  },
  {
   "cell_type": "code",
   "execution_count": 41,
   "metadata": {},
   "outputs": [],
   "source": [
    "query_4 = spark.sql(\"\"\"\n",
    "\n",
    "SELECT nro_cliente, \n",
    "\n",
    "MIN(facturacion) AS facturacion_min, MEAN(facturacion) AS facturacion_promedio, MAX(facturacion) AS facturacion_max,\n",
    "\n",
    "SUM(facturacion) AS facturacion_total\n",
    "\n",
    "FROM tabla_1\n",
    "\n",
    "GROUP BY nro_cliente\n",
    "\n",
    "ORDER BY nro_cliente\n",
    "\n",
    "\"\"\")"
   ]
  },
  {
   "cell_type": "code",
   "execution_count": 42,
   "metadata": {},
   "outputs": [
    {
     "name": "stdout",
     "output_type": "stream",
     "text": [
      "tabla_4 levantada de ruta: /temp/fcosta/telecom_v0/tabla_4\n"
     ]
    }
   ],
   "source": [
    "escribir_y_levantar_tabla(query_4, numero_tabla = 4, \n",
    "                          nombre_notebook = nombre_notebook, version_notebook = version_notebook, \n",
    "                          tipo_guardado = \"temp\", tipo_escritura = \"overwrite\")"
   ]
  },
  {
   "cell_type": "code",
   "execution_count": 43,
   "metadata": {
    "scrolled": true
   },
   "outputs": [
    {
     "name": "stdout",
     "output_type": "stream",
     "text": [
      "+-----------+---------------+--------------------+---------------+-----------------+\n",
      "|nro_cliente|facturacion_min|facturacion_promedio|facturacion_max|facturacion_total|\n",
      "+-----------+---------------+--------------------+---------------+-----------------+\n",
      "|          1|       919.1029|   930.2543666666667|       935.8301|        2790.7631|\n",
      "|          2|      1330.1677|  1345.2980333333333|      1352.8632|        4035.8941|\n",
      "|          3|       602.0372|            602.0372|       602.0372|        1806.1116|\n",
      "|          4|       706.5517|   800.5677666666667|       847.5758|        2401.7033|\n",
      "|          5|       353.2809|   400.2889666666667|        423.793|        1200.8669|\n",
      "+-----------+---------------+--------------------+---------------+-----------------+\n",
      "only showing top 5 rows\n",
      "\n"
     ]
    }
   ],
   "source": [
    "query_4.show(5)"
   ]
  },
  {
   "cell_type": "code",
   "execution_count": 86,
   "metadata": {},
   "outputs": [],
   "source": [
    "df_respuesta_6_1 = query_4.toPandas()\n",
    "df_respuesta_6_1.to_csv(\"respuesta_6_1.csv\", index = False)"
   ]
  },
  {
   "cell_type": "markdown",
   "metadata": {},
   "source": [
    "## 6.2 - Crear una marca en caso de que haya cambiado de plan en alguno de los tres meses. (subilo al repositorio en un archivo .csv) <a id=\"6.2\"></a>"
   ]
  },
  {
   "cell_type": "code",
   "execution_count": 44,
   "metadata": {},
   "outputs": [
    {
     "name": "stdout",
     "output_type": "stream",
     "text": [
      "+--------+---+-----------+\n",
      "|Plan_mes|mes|nro_cliente|\n",
      "+--------+---+-----------+\n",
      "|95729   |1  |1          |\n",
      "|95729   |2  |1          |\n",
      "|96810   |3  |1          |\n",
      "|96400   |1  |2          |\n",
      "|96400   |2  |2          |\n",
      "+--------+---+-----------+\n",
      "only showing top 5 rows\n",
      "\n"
     ]
    }
   ],
   "source": [
    "spark.sql(\"\"\"\n",
    "\n",
    "SELECT *\n",
    "\n",
    "FROM tabla_0\n",
    "\n",
    "ORDER BY nro_cliente, mes\n",
    "\n",
    "\"\"\").show(5, truncate = False)"
   ]
  },
  {
   "cell_type": "code",
   "execution_count": 45,
   "metadata": {},
   "outputs": [],
   "source": [
    "query_5 = spark.sql(\"\"\"\n",
    "\n",
    "SELECT nro_cliente, COUNT(DISTINCT Plan_mes) AS cantidad_planes_distintos\n",
    "\n",
    "FROM tabla_0\n",
    "\n",
    "GROUP BY nro_cliente\n",
    "\n",
    "\"\"\")"
   ]
  },
  {
   "cell_type": "code",
   "execution_count": 46,
   "metadata": {},
   "outputs": [
    {
     "name": "stdout",
     "output_type": "stream",
     "text": [
      "tabla_5 levantada de ruta: /temp/fcosta/telecom_v0/tabla_5\n"
     ]
    }
   ],
   "source": [
    "escribir_y_levantar_tabla(query_5, numero_tabla = 5, \n",
    "                          nombre_notebook = nombre_notebook, version_notebook = version_notebook, \n",
    "                          tipo_guardado = \"temp\", tipo_escritura = \"overwrite\")"
   ]
  },
  {
   "cell_type": "code",
   "execution_count": 47,
   "metadata": {},
   "outputs": [],
   "source": [
    "query_6 = spark.sql(\"\"\"\n",
    "\n",
    "SELECT nro_cliente,\n",
    "\n",
    "CASE \n",
    "    WHEN cantidad_planes_distintos > 1 THEN 1\n",
    "    ELSE 0\n",
    "END AS cambio_de_plan\n",
    "\n",
    "FROM tabla_5\n",
    "\n",
    "\"\"\")"
   ]
  },
  {
   "cell_type": "code",
   "execution_count": 48,
   "metadata": {},
   "outputs": [
    {
     "name": "stdout",
     "output_type": "stream",
     "text": [
      "tabla_6 levantada de ruta: /temp/fcosta/telecom_v0/tabla_6\n"
     ]
    }
   ],
   "source": [
    "escribir_y_levantar_tabla(query_6, numero_tabla = 6, \n",
    "                          nombre_notebook = nombre_notebook, version_notebook = version_notebook, \n",
    "                          tipo_guardado = \"temp\", tipo_escritura = \"overwrite\")"
   ]
  },
  {
   "cell_type": "code",
   "execution_count": 49,
   "metadata": {
    "scrolled": true
   },
   "outputs": [
    {
     "name": "stdout",
     "output_type": "stream",
     "text": [
      "+-----------+--------------+\n",
      "|nro_cliente|cambio_de_plan|\n",
      "+-----------+--------------+\n",
      "|          1|             1|\n",
      "|          3|             0|\n",
      "|          2|             0|\n",
      "|          5|             1|\n",
      "|          4|             1|\n",
      "+-----------+--------------+\n",
      "only showing top 5 rows\n",
      "\n"
     ]
    }
   ],
   "source": [
    "query_6.show(5)"
   ]
  },
  {
   "cell_type": "code",
   "execution_count": 50,
   "metadata": {},
   "outputs": [
    {
     "name": "stdout",
     "output_type": "stream",
     "text": [
      "Cantidad de clientes distintos en la tabla_6: 10900\n",
      "Cantidad de registros en la tabla_6: 10900\n"
     ]
    }
   ],
   "source": [
    "print(\"Cantidad de clientes distintos en la tabla_6:\", spark.sql(\"\"\" SELECT DISTINCT nro_cliente FROM tabla_6 \"\"\").count())\n",
    "print(\"Cantidad de registros en la tabla_6:\", spark.sql(\"\"\" SELECT * FROM tabla_6 \"\"\").count())"
   ]
  },
  {
   "cell_type": "code",
   "execution_count": 87,
   "metadata": {},
   "outputs": [],
   "source": [
    "df_respuesta_6_2 = query_6.toPandas()\n",
    "df_respuesta_6_2.to_csv(\"respuesta_6_2.csv\", index = False)"
   ]
  },
  {
   "cell_type": "markdown",
   "metadata": {},
   "source": [
    "## 6.3 - Cuantos clientes que se encuentran en CABA cambiaron de plan. <a id=\"6.3\"></a>"
   ]
  },
  {
   "cell_type": "code",
   "execution_count": 51,
   "metadata": {},
   "outputs": [
    {
     "name": "stdout",
     "output_type": "stream",
     "text": [
      "+-----------+--------------+\n",
      "|nro_cliente|cambio_de_plan|\n",
      "+-----------+--------------+\n",
      "|1          |1             |\n",
      "|3          |0             |\n",
      "|2          |0             |\n",
      "|5          |1             |\n",
      "|4          |1             |\n",
      "+-----------+--------------+\n",
      "only showing top 5 rows\n",
      "\n"
     ]
    }
   ],
   "source": [
    "spark.sql(\"\"\"\n",
    "\n",
    "SELECT *\n",
    "\n",
    "FROM tabla_6\n",
    "\n",
    "\"\"\").show(5, truncate = False)"
   ]
  },
  {
   "cell_type": "code",
   "execution_count": 52,
   "metadata": {},
   "outputs": [
    {
     "name": "stdout",
     "output_type": "stream",
     "text": [
      "+-----------+---------+\n",
      "|nro_cliente|provincia|\n",
      "+-----------+---------+\n",
      "|1          |chaco    |\n",
      "|2          |santa fe |\n",
      "|3          |cordoba  |\n",
      "|4          |salta    |\n",
      "|5          |santa fe |\n",
      "+-----------+---------+\n",
      "only showing top 5 rows\n",
      "\n"
     ]
    }
   ],
   "source": [
    "spark.sql(\"\"\"\n",
    "\n",
    "SELECT *\n",
    "\n",
    "FROM tabla_3_1\n",
    "\n",
    "\"\"\").show(5, truncate = False)"
   ]
  },
  {
   "cell_type": "code",
   "execution_count": 53,
   "metadata": {},
   "outputs": [],
   "source": [
    "query_7 = spark.sql(\"\"\"\n",
    "\n",
    "SELECT a.nro_cliente, a.cambio_de_plan, b.provincia\n",
    "\n",
    "FROM tabla_6 AS a INNER JOIN tabla_3_1 AS b\n",
    " \n",
    "ON a.nro_cliente = b.nro_cliente\n",
    "\n",
    "\"\"\")"
   ]
  },
  {
   "cell_type": "code",
   "execution_count": 54,
   "metadata": {},
   "outputs": [
    {
     "name": "stdout",
     "output_type": "stream",
     "text": [
      "tabla_7 levantada de ruta: /temp/fcosta/telecom_v0/tabla_7\n"
     ]
    }
   ],
   "source": [
    "escribir_y_levantar_tabla(query_7, numero_tabla = 7, \n",
    "                          nombre_notebook = nombre_notebook, version_notebook = version_notebook, \n",
    "                          tipo_guardado = \"temp\", tipo_escritura = \"overwrite\")"
   ]
  },
  {
   "cell_type": "code",
   "execution_count": 55,
   "metadata": {
    "scrolled": true
   },
   "outputs": [
    {
     "name": "stdout",
     "output_type": "stream",
     "text": [
      "+--------------------+----------------+----------------+-------------+\n",
      "|           provincia|cant_cambio_plan|porc_cambio_plan|cant_clientes|\n",
      "+--------------------+----------------+----------------+-------------+\n",
      "|            la pampa|               2|            66.7|            3|\n",
      "|             mendoza|              93|            65.0|          143|\n",
      "|            san juan|              53|            63.9|           83|\n",
      "|             formosa|             102|            63.8|          160|\n",
      "|            misiones|             249|            62.6|          398|\n",
      "|    tierra del fuego|               5|            62.5|            8|\n",
      "|               jujuy|             175|            60.6|          289|\n",
      "| santiago del estero|             199|            59.6|          334|\n",
      "|              chubut|               7|            58.3|           12|\n",
      "|             neuquen|              15|            57.7|           26|\n",
      "|          santa cruz|               8|            57.1|           14|\n",
      "|           rio negro|              17|            56.7|           30|\n",
      "|            la rioja|              67|            56.3|          119|\n",
      "|             tucuman|             339|            55.8|          608|\n",
      "|        buenos aires|            1571|            55.5|         2829|\n",
      "|               salta|             275|            55.3|          497|\n",
      "|          corrientes|             210|            55.3|          380|\n",
      "|             cordoba|             626|            53.6|         1167|\n",
      "|               chaco|             255|            53.2|          479|\n",
      "|          entre rios|             218|            52.5|          415|\n",
      "|            san luis|              12|            52.2|           23|\n",
      "|           catamarca|              78|            51.3|          152|\n",
      "|            santa fe|             565|            49.6|         1139|\n",
      "|ciudad autonoma d...|             706|            44.3|         1592|\n",
      "+--------------------+----------------+----------------+-------------+\n",
      "\n"
     ]
    }
   ],
   "source": [
    "spark.sql(\"\"\"\n",
    "\n",
    "SELECT provincia,\n",
    "\n",
    "SUM(cambio_de_plan) AS cant_cambio_plan, \n",
    "\n",
    "ROUND(SUM(cambio_de_plan) * 100 / count(cambio_de_plan), 1) AS porc_cambio_plan,\n",
    "\n",
    "COUNT(*) AS cant_clientes\n",
    "\n",
    "FROM tabla_7\n",
    "\n",
    "GROUP BY provincia\n",
    "\n",
    "ORDER BY porc_cambio_plan DESC\n",
    "\n",
    "\"\"\").show(50)"
   ]
  },
  {
   "cell_type": "markdown",
   "metadata": {},
   "source": [
    " ## 6.4 - Qué provincia tiene la facturación promedio trimestral más alta <a id=\"6.4\"></a>"
   ]
  },
  {
   "cell_type": "markdown",
   "metadata": {},
   "source": [
    "#### Lo que calculo es: para cada cliente la facturación total (por los meses que tenga) y luego el promedio (y de paso también el máximo) de la facturación total por cliente para cada provincia."
   ]
  },
  {
   "cell_type": "code",
   "execution_count": 56,
   "metadata": {},
   "outputs": [
    {
     "name": "stdout",
     "output_type": "stream",
     "text": [
      "+-----------+-----------+---+\n",
      "|facturacion|nro_cliente|mes|\n",
      "+-----------+-----------+---+\n",
      "|935.8301   |1          |1  |\n",
      "|1352.8632  |2          |1  |\n",
      "|602.0372   |3          |1  |\n",
      "|847.5758   |4          |1  |\n",
      "|423.793    |5          |1  |\n",
      "+-----------+-----------+---+\n",
      "only showing top 5 rows\n",
      "\n"
     ]
    }
   ],
   "source": [
    "spark.sql(\"\"\"\n",
    "\n",
    "SELECT *\n",
    "\n",
    "FROM tabla_1\n",
    "\n",
    "\"\"\").show(5, truncate = False)"
   ]
  },
  {
   "cell_type": "code",
   "execution_count": 57,
   "metadata": {},
   "outputs": [
    {
     "name": "stdout",
     "output_type": "stream",
     "text": [
      "+-----------+---------------+--------------------+---------------+-----------------+\n",
      "|nro_cliente|facturacion_min|facturacion_promedio|facturacion_max|facturacion_total|\n",
      "+-----------+---------------+--------------------+---------------+-----------------+\n",
      "|1          |919.1029       |930.2543666666667   |935.8301       |2790.7631        |\n",
      "|2          |1330.1677      |1345.2980333333333  |1352.8632      |4035.8941        |\n",
      "|3          |602.0372       |602.0372            |602.0372       |1806.1116        |\n",
      "|4          |706.5517       |800.5677666666667   |847.5758       |2401.7033        |\n",
      "|5          |353.2809       |400.2889666666667   |423.793        |1200.8669        |\n",
      "+-----------+---------------+--------------------+---------------+-----------------+\n",
      "only showing top 5 rows\n",
      "\n"
     ]
    }
   ],
   "source": [
    "spark.sql(\"\"\"\n",
    "\n",
    "SELECT *\n",
    "\n",
    "FROM tabla_4\n",
    "\n",
    "\"\"\").show(5, truncate = False)"
   ]
  },
  {
   "cell_type": "code",
   "execution_count": 58,
   "metadata": {},
   "outputs": [
    {
     "name": "stdout",
     "output_type": "stream",
     "text": [
      "+-----------+---------+\n",
      "|nro_cliente|provincia|\n",
      "+-----------+---------+\n",
      "|1          |chaco    |\n",
      "|2          |santa fe |\n",
      "|3          |cordoba  |\n",
      "|4          |salta    |\n",
      "|5          |santa fe |\n",
      "+-----------+---------+\n",
      "only showing top 5 rows\n",
      "\n"
     ]
    }
   ],
   "source": [
    "spark.sql(\"\"\"\n",
    "\n",
    "SELECT *\n",
    "\n",
    "FROM tabla_3_1\n",
    "\n",
    "\"\"\").show(5, truncate = False)"
   ]
  },
  {
   "cell_type": "code",
   "execution_count": 59,
   "metadata": {},
   "outputs": [],
   "source": [
    "query_8 = spark.sql(\"\"\"\n",
    "\n",
    "SELECT a.nro_cliente, a.facturacion_total, b.provincia\n",
    "\n",
    "FROM tabla_4 AS a INNER JOIN tabla_3_1 AS b\n",
    "\n",
    "ON a.nro_cliente = b.nro_cliente\n",
    "\n",
    "ORDER BY b.provincia, a.nro_cliente\n",
    "\n",
    "\"\"\")"
   ]
  },
  {
   "cell_type": "code",
   "execution_count": 60,
   "metadata": {},
   "outputs": [
    {
     "name": "stdout",
     "output_type": "stream",
     "text": [
      "tabla_8 levantada de ruta: /temp/fcosta/telecom_v0/tabla_8\n"
     ]
    }
   ],
   "source": [
    "escribir_y_levantar_tabla(query_8, numero_tabla = 8, \n",
    "                          nombre_notebook = nombre_notebook, version_notebook = version_notebook, \n",
    "                          tipo_guardado = \"temp\", tipo_escritura = \"overwrite\")"
   ]
  },
  {
   "cell_type": "code",
   "execution_count": 61,
   "metadata": {},
   "outputs": [
    {
     "name": "stdout",
     "output_type": "stream",
     "text": [
      "+-----------+------------------+------------+\n",
      "|nro_cliente| facturacion_total|   provincia|\n",
      "+-----------+------------------+------------+\n",
      "|          9|1693.2842999999998|buenos aires|\n",
      "|         42|          1135.968|buenos aires|\n",
      "|         51|         3718.1583|buenos aires|\n",
      "|         53|         1840.4897|buenos aires|\n",
      "|         58|1686.4125999999999|buenos aires|\n",
      "+-----------+------------------+------------+\n",
      "only showing top 5 rows\n",
      "\n"
     ]
    }
   ],
   "source": [
    "query_8.show(5)"
   ]
  },
  {
   "cell_type": "markdown",
   "metadata": {},
   "source": [
    "#### Cuánto factura cada provincia por trimestre por cada cliente, en promedio?"
   ]
  },
  {
   "cell_type": "code",
   "execution_count": 90,
   "metadata": {
    "scrolled": true
   },
   "outputs": [
    {
     "name": "stdout",
     "output_type": "stream",
     "text": [
      "+--------------------+-------------------------------+----------------------------------------+\n",
      "|           provincia|promedio_trimestral_por_cliente|mayor_facturacion_trimestral_por_cliente|\n",
      "+--------------------+-------------------------------+----------------------------------------+\n",
      "|    tierra del fuego|                    1976.499475|                                2402.363|\n",
      "|           rio negro|             1918.8844333333332|                               4270.8463|\n",
      "|ciudad autonoma d...|             1818.5226366834145|                                 9550.32|\n",
      "|            la rioja|             1774.6033403361334|                               5060.5583|\n",
      "|            la pampa|                      1732.5544|                               2120.1726|\n",
      "|             neuquen|             1716.1656384615385|                               3718.1583|\n",
      "|            santa fe|             1656.8922725197524|                               6809.3874|\n",
      "|              chubut|             1653.5017083333332|                      3139.7808999999997|\n",
      "|             cordoba|             1606.5816191945155|                               4878.4254|\n",
      "|          entre rios|             1588.0255255421657|                               4482.5445|\n",
      "|          corrientes|                     1566.05319|                      4913.9295999999995|\n",
      "|          santa cruz|             1557.6783928571429|                               3511.5957|\n",
      "|        buenos aires|             1540.7791220572417|                               9278.3181|\n",
      "|           catamarca|             1534.6966894736834|                      4022.9727999999996|\n",
      "|             tucuman|             1521.1089940789457|                               5229.6463|\n",
      "|               chaco|              1500.572129018788|                               4379.8887|\n",
      "|             mendoza|             1481.2638664335657|                               4035.8941|\n",
      "|            san juan|             1470.8527048192768|                       6893.896699999999|\n",
      "|             formosa|              1467.767706874998|                               4270.8463|\n",
      "|               salta|             1464.6481068410453|                                 4933.56|\n",
      "|            misiones|             1455.9588924623126|                               6117.8071|\n",
      "|            san luis|             1455.3905956521735|                                 3181.01|\n",
      "|               jujuy|             1452.4056435986156|                               4516.6996|\n",
      "| santiago del estero|             1450.4422580838313|                                 5864.66|\n",
      "+--------------------+-------------------------------+----------------------------------------+\n",
      "\n"
     ]
    }
   ],
   "source": [
    "spark.sql(\"\"\"\n",
    "\n",
    "SELECT provincia, \n",
    "\n",
    "MEAN(facturacion_total) AS promedio_trimestral_por_cliente,\n",
    "\n",
    "MAX(facturacion_total) AS mayor_facturacion_trimestral_por_cliente\n",
    "\n",
    "FROM tabla_8\n",
    "\n",
    "GROUP BY provincia\n",
    "\n",
    "ORDER BY promedio_trimestral_por_cliente DESC\n",
    "\n",
    "\"\"\").show(2000)"
   ]
  },
  {
   "cell_type": "markdown",
   "metadata": {},
   "source": [
    "## 6.5 - Hay alguna relación entre la facturación y la duración de llamadas (hay alguna métrica estadística que lo sustente) <a id=\"6.5\"></a>"
   ]
  },
  {
   "cell_type": "code",
   "execution_count": 63,
   "metadata": {},
   "outputs": [
    {
     "name": "stdout",
     "output_type": "stream",
     "text": [
      "+-----------+-----------+---+\n",
      "|facturacion|nro_cliente|mes|\n",
      "+-----------+-----------+---+\n",
      "|935.8301   |1          |1  |\n",
      "|1352.8632  |2          |1  |\n",
      "|602.0372   |3          |1  |\n",
      "|847.5758   |4          |1  |\n",
      "|423.793    |5          |1  |\n",
      "+-----------+-----------+---+\n",
      "only showing top 5 rows\n",
      "\n"
     ]
    }
   ],
   "source": [
    "spark.sql(\"\"\"\n",
    "\n",
    "SELECT *\n",
    "\n",
    "FROM tabla_1\n",
    "\n",
    "\"\"\").show(5, truncate = False)"
   ]
  },
  {
   "cell_type": "code",
   "execution_count": 64,
   "metadata": {},
   "outputs": [
    {
     "name": "stdout",
     "output_type": "stream",
     "text": [
      "+-----------+---+-------------------------------+\n",
      "|nro_cliente|mes|duracion_total_llamadas_minutos|\n",
      "+-----------+---+-------------------------------+\n",
      "|2          |3  |30                             |\n",
      "|16         |1  |217                            |\n",
      "|16         |2  |77                             |\n",
      "|16         |3  |248                            |\n",
      "|20         |2  |1581                           |\n",
      "+-----------+---+-------------------------------+\n",
      "only showing top 5 rows\n",
      "\n"
     ]
    }
   ],
   "source": [
    "spark.sql(\"\"\"\n",
    "\n",
    "SELECT *\n",
    "\n",
    "FROM tabla_2_1\n",
    "\n",
    "\"\"\").show(5, truncate = False)"
   ]
  },
  {
   "cell_type": "code",
   "execution_count": 65,
   "metadata": {},
   "outputs": [],
   "source": [
    "query_9 = spark.sql(\"\"\"\n",
    "\n",
    "SELECT a.nro_cliente, a.mes, a.facturacion, \n",
    "\n",
    "b.duracion_total_llamadas_minutos\n",
    "\n",
    "FROM tabla_1 AS a INNER JOIN tabla_2_1 AS b\n",
    "\n",
    "ON a.nro_cliente = b.nro_cliente AND a.mes = b.mes\n",
    "\n",
    "ORDER BY nro_cliente, mes\n",
    "\n",
    "\"\"\")"
   ]
  },
  {
   "cell_type": "code",
   "execution_count": 66,
   "metadata": {},
   "outputs": [
    {
     "name": "stdout",
     "output_type": "stream",
     "text": [
      "tabla_9 levantada de ruta: /temp/fcosta/telecom_v0/tabla_9\n"
     ]
    }
   ],
   "source": [
    "escribir_y_levantar_tabla(query_9, numero_tabla = 9, \n",
    "                          nombre_notebook = nombre_notebook, version_notebook = version_notebook, \n",
    "                          tipo_guardado = \"temp\", tipo_escritura = \"overwrite\")"
   ]
  },
  {
   "cell_type": "code",
   "execution_count": 67,
   "metadata": {},
   "outputs": [],
   "source": [
    "df_facturacion_duracion = spark.sql(\"\"\"\n",
    "\n",
    "SELECT facturacion, duracion_total_llamadas_minutos\n",
    "\n",
    "FROM tabla_9\n",
    "\n",
    "\"\"\").toPandas()"
   ]
  },
  {
   "cell_type": "code",
   "execution_count": 68,
   "metadata": {},
   "outputs": [
    {
     "data": {
      "text/html": [
       "<div>\n",
       "<style scoped>\n",
       "    .dataframe tbody tr th:only-of-type {\n",
       "        vertical-align: middle;\n",
       "    }\n",
       "\n",
       "    .dataframe tbody tr th {\n",
       "        vertical-align: top;\n",
       "    }\n",
       "\n",
       "    .dataframe thead th {\n",
       "        text-align: right;\n",
       "    }\n",
       "</style>\n",
       "<table border=\"1\" class=\"dataframe\">\n",
       "  <thead>\n",
       "    <tr style=\"text-align: right;\">\n",
       "      <th></th>\n",
       "      <th>facturacion</th>\n",
       "      <th>duracion_total_llamadas_minutos</th>\n",
       "    </tr>\n",
       "  </thead>\n",
       "  <tbody>\n",
       "    <tr>\n",
       "      <th>count</th>\n",
       "      <td>1538.000000</td>\n",
       "      <td>1538.000000</td>\n",
       "    </tr>\n",
       "    <tr>\n",
       "      <th>mean</th>\n",
       "      <td>522.230132</td>\n",
       "      <td>527.137841</td>\n",
       "    </tr>\n",
       "    <tr>\n",
       "      <th>std</th>\n",
       "      <td>275.322313</td>\n",
       "      <td>1169.935814</td>\n",
       "    </tr>\n",
       "    <tr>\n",
       "      <th>min</th>\n",
       "      <td>0.000000</td>\n",
       "      <td>30.000000</td>\n",
       "    </tr>\n",
       "    <tr>\n",
       "      <th>25%</th>\n",
       "      <td>409.978900</td>\n",
       "      <td>55.000000</td>\n",
       "    </tr>\n",
       "    <tr>\n",
       "      <th>50%</th>\n",
       "      <td>485.474600</td>\n",
       "      <td>149.000000</td>\n",
       "    </tr>\n",
       "    <tr>\n",
       "      <th>75%</th>\n",
       "      <td>602.037200</td>\n",
       "      <td>493.000000</td>\n",
       "    </tr>\n",
       "    <tr>\n",
       "      <th>max</th>\n",
       "      <td>2163.715200</td>\n",
       "      <td>14411.000000</td>\n",
       "    </tr>\n",
       "  </tbody>\n",
       "</table>\n",
       "</div>"
      ],
      "text/plain": [
       "       facturacion  duracion_total_llamadas_minutos\n",
       "count  1538.000000                      1538.000000\n",
       "mean    522.230132                       527.137841\n",
       "std     275.322313                      1169.935814\n",
       "min       0.000000                        30.000000\n",
       "25%     409.978900                        55.000000\n",
       "50%     485.474600                       149.000000\n",
       "75%     602.037200                       493.000000\n",
       "max    2163.715200                     14411.000000"
      ]
     },
     "execution_count": 68,
     "metadata": {},
     "output_type": "execute_result"
    }
   ],
   "source": [
    "df_facturacion_duracion.describe()"
   ]
  },
  {
   "cell_type": "code",
   "execution_count": 69,
   "metadata": {},
   "outputs": [
    {
     "data": {
      "image/png": "[encoded data removed]",
      "text/plain": [
       "<Figure size 864x576 with 1 Axes>"
      ]
     },
     "metadata": {},
     "output_type": "display_data"
    }
   ],
   "source": [
    "sns.scatterplot(x = \"duracion_total_llamadas_minutos\", y = \"facturacion\", data = df_facturacion_duracion) \n",
    "plt.show()"
   ]
  },
  {
   "cell_type": "code",
   "execution_count": 70,
   "metadata": {},
   "outputs": [
    {
     "data": {
      "text/html": [
       "<div>\n",
       "<style scoped>\n",
       "    .dataframe tbody tr th:only-of-type {\n",
       "        vertical-align: middle;\n",
       "    }\n",
       "\n",
       "    .dataframe tbody tr th {\n",
       "        vertical-align: top;\n",
       "    }\n",
       "\n",
       "    .dataframe thead th {\n",
       "        text-align: right;\n",
       "    }\n",
       "</style>\n",
       "<table border=\"1\" class=\"dataframe\">\n",
       "  <thead>\n",
       "    <tr style=\"text-align: right;\">\n",
       "      <th></th>\n",
       "      <th>facturacion</th>\n",
       "      <th>duracion_total_llamadas_minutos</th>\n",
       "    </tr>\n",
       "  </thead>\n",
       "  <tbody>\n",
       "    <tr>\n",
       "      <th>271</th>\n",
       "      <td>2163.7152</td>\n",
       "      <td>30</td>\n",
       "    </tr>\n",
       "    <tr>\n",
       "      <th>756</th>\n",
       "      <td>1958.4861</td>\n",
       "      <td>60</td>\n",
       "    </tr>\n",
       "    <tr>\n",
       "      <th>1193</th>\n",
       "      <td>1909.6100</td>\n",
       "      <td>450</td>\n",
       "    </tr>\n",
       "    <tr>\n",
       "      <th>189</th>\n",
       "      <td>1854.6161</td>\n",
       "      <td>30</td>\n",
       "    </tr>\n",
       "    <tr>\n",
       "      <th>45</th>\n",
       "      <td>1770.3631</td>\n",
       "      <td>30</td>\n",
       "    </tr>\n",
       "  </tbody>\n",
       "</table>\n",
       "</div>"
      ],
      "text/plain": [
       "      facturacion  duracion_total_llamadas_minutos\n",
       "271     2163.7152                               30\n",
       "756     1958.4861                               60\n",
       "1193    1909.6100                              450\n",
       "189     1854.6161                               30\n",
       "45      1770.3631                               30"
      ]
     },
     "execution_count": 70,
     "metadata": {},
     "output_type": "execute_result"
    }
   ],
   "source": [
    "df_facturacion_duracion.sort_values(\"facturacion\", ascending = False).head()"
   ]
  },
  {
   "cell_type": "code",
   "execution_count": 71,
   "metadata": {},
   "outputs": [
    {
     "data": {
      "text/html": [
       "<div>\n",
       "<style scoped>\n",
       "    .dataframe tbody tr th:only-of-type {\n",
       "        vertical-align: middle;\n",
       "    }\n",
       "\n",
       "    .dataframe tbody tr th {\n",
       "        vertical-align: top;\n",
       "    }\n",
       "\n",
       "    .dataframe thead th {\n",
       "        text-align: right;\n",
       "    }\n",
       "</style>\n",
       "<table border=\"1\" class=\"dataframe\">\n",
       "  <thead>\n",
       "    <tr style=\"text-align: right;\">\n",
       "      <th></th>\n",
       "      <th>facturacion</th>\n",
       "      <th>duracion_total_llamadas_minutos</th>\n",
       "    </tr>\n",
       "  </thead>\n",
       "  <tbody>\n",
       "    <tr>\n",
       "      <th>facturacion</th>\n",
       "      <td>1.000000</td>\n",
       "      <td>0.003789</td>\n",
       "    </tr>\n",
       "    <tr>\n",
       "      <th>duracion_total_llamadas_minutos</th>\n",
       "      <td>0.003789</td>\n",
       "      <td>1.000000</td>\n",
       "    </tr>\n",
       "  </tbody>\n",
       "</table>\n",
       "</div>"
      ],
      "text/plain": [
       "                                 facturacion  duracion_total_llamadas_minutos\n",
       "facturacion                         1.000000                         0.003789\n",
       "duracion_total_llamadas_minutos     0.003789                         1.000000"
      ]
     },
     "execution_count": 71,
     "metadata": {},
     "output_type": "execute_result"
    }
   ],
   "source": [
    "df_facturacion_duracion.corr(method = \"pearson\")"
   ]
  },
  {
   "cell_type": "code",
   "execution_count": 72,
   "metadata": {},
   "outputs": [
    {
     "data": {
      "text/html": [
       "<div>\n",
       "<style scoped>\n",
       "    .dataframe tbody tr th:only-of-type {\n",
       "        vertical-align: middle;\n",
       "    }\n",
       "\n",
       "    .dataframe tbody tr th {\n",
       "        vertical-align: top;\n",
       "    }\n",
       "\n",
       "    .dataframe thead th {\n",
       "        text-align: right;\n",
       "    }\n",
       "</style>\n",
       "<table border=\"1\" class=\"dataframe\">\n",
       "  <thead>\n",
       "    <tr style=\"text-align: right;\">\n",
       "      <th></th>\n",
       "      <th>facturacion</th>\n",
       "      <th>duracion_total_llamadas_minutos</th>\n",
       "    </tr>\n",
       "  </thead>\n",
       "  <tbody>\n",
       "    <tr>\n",
       "      <th>facturacion</th>\n",
       "      <td>1.00000</td>\n",
       "      <td>0.04236</td>\n",
       "    </tr>\n",
       "    <tr>\n",
       "      <th>duracion_total_llamadas_minutos</th>\n",
       "      <td>0.04236</td>\n",
       "      <td>1.00000</td>\n",
       "    </tr>\n",
       "  </tbody>\n",
       "</table>\n",
       "</div>"
      ],
      "text/plain": [
       "                                 facturacion  duracion_total_llamadas_minutos\n",
       "facturacion                          1.00000                          0.04236\n",
       "duracion_total_llamadas_minutos      0.04236                          1.00000"
      ]
     },
     "execution_count": 72,
     "metadata": {},
     "output_type": "execute_result"
    }
   ],
   "source": [
    "df_facturacion_duracion.corr(method = \"spearman\")"
   ]
  },
  {
   "cell_type": "markdown",
   "metadata": {},
   "source": [
    "#### Conclusión: no parece haber correlación entre la facturación y duración total de las llamadas en minutos. Como son dos variables continuas, podemos obtener el valor de correlación de Pearson (para correlaciones lineales) o de Spearman. Ambos resultan cercanos a cero (0.004 y 0.04 respectivamente). Imagino que hace unos años, cuando no existía internet en el celular, tal vez había una correlación fuerte entre estas dos variables."
   ]
  },
  {
   "cell_type": "markdown",
   "metadata": {},
   "source": [
    "## 6.6 - Hay alguna relación entre la facturación y el cambio de plan. (hay alguna métrica estadística que lo sustente) <a id=\"6.6\"></a>"
   ]
  },
  {
   "cell_type": "code",
   "execution_count": 73,
   "metadata": {},
   "outputs": [
    {
     "name": "stdout",
     "output_type": "stream",
     "text": [
      "+-----------+---------------+--------------------+---------------+-----------------+\n",
      "|nro_cliente|facturacion_min|facturacion_promedio|facturacion_max|facturacion_total|\n",
      "+-----------+---------------+--------------------+---------------+-----------------+\n",
      "|1          |919.1029       |930.2543666666667   |935.8301       |2790.7631        |\n",
      "|2          |1330.1677      |1345.2980333333333  |1352.8632      |4035.8941        |\n",
      "+-----------+---------------+--------------------+---------------+-----------------+\n",
      "only showing top 2 rows\n",
      "\n"
     ]
    }
   ],
   "source": [
    "spark.sql(\"\"\"\n",
    "\n",
    "SELECT *\n",
    "\n",
    "FROM tabla_4\n",
    "\n",
    "\"\"\").show(2, truncate = False)"
   ]
  },
  {
   "cell_type": "code",
   "execution_count": 74,
   "metadata": {},
   "outputs": [
    {
     "name": "stdout",
     "output_type": "stream",
     "text": [
      "+-----------+--------------+\n",
      "|nro_cliente|cambio_de_plan|\n",
      "+-----------+--------------+\n",
      "|1          |1             |\n",
      "|3          |0             |\n",
      "+-----------+--------------+\n",
      "only showing top 2 rows\n",
      "\n"
     ]
    }
   ],
   "source": [
    "spark.sql(\"\"\"\n",
    "\n",
    "SELECT *\n",
    "\n",
    "FROM tabla_6\n",
    "\n",
    "\"\"\").show(2, truncate = False)"
   ]
  },
  {
   "cell_type": "code",
   "execution_count": 75,
   "metadata": {},
   "outputs": [],
   "source": [
    "query_10 = spark.sql(\"\"\"\n",
    "\n",
    "SELECT a.nro_cliente, a.facturacion_total, \n",
    "\n",
    "b.cambio_de_plan\n",
    "\n",
    "FROM tabla_4 AS a INNER JOIN tabla_6 AS b\n",
    "\n",
    "ON a.nro_cliente = b.nro_cliente\n",
    "\n",
    "\"\"\")"
   ]
  },
  {
   "cell_type": "code",
   "execution_count": 76,
   "metadata": {},
   "outputs": [
    {
     "name": "stdout",
     "output_type": "stream",
     "text": [
      "tabla_10 levantada de ruta: /temp/fcosta/telecom_v0/tabla_10\n"
     ]
    }
   ],
   "source": [
    "escribir_y_levantar_tabla(query_10, numero_tabla = 10, \n",
    "                          nombre_notebook = nombre_notebook, version_notebook = version_notebook, \n",
    "                          tipo_guardado = \"temp\", tipo_escritura = \"overwrite\")"
   ]
  },
  {
   "cell_type": "code",
   "execution_count": 77,
   "metadata": {},
   "outputs": [],
   "source": [
    "df_facturacion_cambio_plan = spark.sql(\"\"\"\n",
    "\n",
    "SELECT facturacion_total, cambio_de_plan\n",
    "\n",
    "FROM tabla_10\n",
    "\n",
    "\"\"\").toPandas()"
   ]
  },
  {
   "cell_type": "code",
   "execution_count": 78,
   "metadata": {},
   "outputs": [
    {
     "data": {
      "image/png": "[encoded data removed]",
      "text/plain": [
       "<Figure size 864x576 with 1 Axes>"
      ]
     },
     "metadata": {},
     "output_type": "display_data"
    }
   ],
   "source": [
    "sns.scatterplot(x = \"cambio_de_plan\", y = \"facturacion_total\", data = df_facturacion_cambio_plan) \n",
    "plt.show()"
   ]
  },
  {
   "cell_type": "code",
   "execution_count": 79,
   "metadata": {},
   "outputs": [
    {
     "data": {
      "image/png": "[encoded data removed]",
      "text/plain": [
       "<Figure size 864x576 with 1 Axes>"
      ]
     },
     "metadata": {},
     "output_type": "display_data"
    }
   ],
   "source": [
    "sns.boxplot(x = \"cambio_de_plan\", y = \"facturacion_total\", data = df_facturacion_cambio_plan) \n",
    "plt.show()"
   ]
  },
  {
   "cell_type": "code",
   "execution_count": 80,
   "metadata": {},
   "outputs": [
    {
     "data": {
      "text/html": [
       "<div>\n",
       "<style scoped>\n",
       "    .dataframe tbody tr th:only-of-type {\n",
       "        vertical-align: middle;\n",
       "    }\n",
       "\n",
       "    .dataframe tbody tr th {\n",
       "        vertical-align: top;\n",
       "    }\n",
       "\n",
       "    .dataframe thead th {\n",
       "        text-align: right;\n",
       "    }\n",
       "</style>\n",
       "<table border=\"1\" class=\"dataframe\">\n",
       "  <thead>\n",
       "    <tr style=\"text-align: right;\">\n",
       "      <th></th>\n",
       "      <th>facturacion_total</th>\n",
       "      <th>cambio_de_plan</th>\n",
       "    </tr>\n",
       "  </thead>\n",
       "  <tbody>\n",
       "    <tr>\n",
       "      <th>facturacion_total</th>\n",
       "      <td>1.000000</td>\n",
       "      <td>-0.033391</td>\n",
       "    </tr>\n",
       "    <tr>\n",
       "      <th>cambio_de_plan</th>\n",
       "      <td>-0.033391</td>\n",
       "      <td>1.000000</td>\n",
       "    </tr>\n",
       "  </tbody>\n",
       "</table>\n",
       "</div>"
      ],
      "text/plain": [
       "                   facturacion_total  cambio_de_plan\n",
       "facturacion_total           1.000000       -0.033391\n",
       "cambio_de_plan             -0.033391        1.000000"
      ]
     },
     "execution_count": 80,
     "metadata": {},
     "output_type": "execute_result"
    }
   ],
   "source": [
    "df_facturacion_cambio_plan.corr(method = \"pearson\")"
   ]
  },
  {
   "cell_type": "code",
   "execution_count": 81,
   "metadata": {},
   "outputs": [],
   "source": [
    "from scipy.stats import pointbiserialr, pearsonr"
   ]
  },
  {
   "cell_type": "code",
   "execution_count": 82,
   "metadata": {},
   "outputs": [
    {
     "data": {
      "text/plain": [
       "PointbiserialrResult(correlation=-0.03339121332918523, pvalue=0.0004889877089963854)"
      ]
     },
     "execution_count": 82,
     "metadata": {},
     "output_type": "execute_result"
    }
   ],
   "source": [
    "pointbiserialr(df_facturacion_cambio_plan[\"facturacion_total\"], df_facturacion_cambio_plan[\"cambio_de_plan\"])"
   ]
  },
  {
   "cell_type": "code",
   "execution_count": 83,
   "metadata": {},
   "outputs": [
    {
     "data": {
      "text/plain": [
       "(-0.03339121332918523, 0.0004889877089963854)"
      ]
     },
     "execution_count": 83,
     "metadata": {},
     "output_type": "execute_result"
    }
   ],
   "source": [
    "pearsonr(df_facturacion_cambio_plan[\"facturacion_total\"], df_facturacion_cambio_plan[\"cambio_de_plan\"])"
   ]
  },
  {
   "cell_type": "markdown",
   "metadata": {},
   "source": [
    "The p-value roughly indicates the probability of an uncorrelated system producing datasets that have a Pearson correlation at least as extreme as the one computed from these datasets. The p-values are not entirely reliable but are probably reasonable for datasets larger than 500 or so."
   ]
  },
  {
   "cell_type": "markdown",
   "metadata": {},
   "source": [
    "#### Conclusión: no parece haber correlación entre la facturación y el flag cambio_de_plan. Como son una variables continua y una dicotómica, podemos obtener el valor de correlación de Pearson (o equivalentemente Point-Biserial) que resulta cercano a cero (0.033 ). (Tal vez se puede encontrar una correlación entre la facturación y un flag que sea subio_de_plan o bajo_de_plan)."
   ]
  },
  {
   "cell_type": "code",
   "execution_count": null,
   "metadata": {},
   "outputs": [],
   "source": []
  },
  {
   "cell_type": "code",
   "execution_count": null,
   "metadata": {},
   "outputs": [],
   "source": []
  },
  {
   "cell_type": "code",
   "execution_count": null,
   "metadata": {},
   "outputs": [],
   "source": []
  },
  {
   "cell_type": "code",
   "execution_count": null,
   "metadata": {},
   "outputs": [],
   "source": []
  },
  {
   "cell_type": "code",
   "execution_count": null,
   "metadata": {},
   "outputs": [],
   "source": []
  },
  {
   "cell_type": "code",
   "execution_count": null,
   "metadata": {},
   "outputs": [],
   "source": []
  },
  {
   "cell_type": "code",
   "execution_count": null,
   "metadata": {},
   "outputs": [],
   "source": []
  },
  {
   "cell_type": "code",
   "execution_count": null,
   "metadata": {},
   "outputs": [],
   "source": []
  },
  {
   "cell_type": "code",
   "execution_count": null,
   "metadata": {},
   "outputs": [],
   "source": []
  },
  {
   "cell_type": "code",
   "execution_count": null,
   "metadata": {},
   "outputs": [],
   "source": []
  },
  {
   "cell_type": "code",
   "execution_count": null,
   "metadata": {},
   "outputs": [],
   "source": []
  }
 ],
 "metadata": {
  "kernelspec": {
   "display_name": "Python 3",
   "language": "python",
   "name": "python3"
  },
  "language_info": {
   "codemirror_mode": {
    "name": "ipython",
    "version": 3
   },
   "file_extension": ".py",
   "mimetype": "text/x-python",
   "name": "python",
   "nbconvert_exporter": "python",
   "pygments_lexer": "ipython3",
   "version": "3.7.1"
  }
 },
 "nbformat": 4,
 "nbformat_minor": 4
}
